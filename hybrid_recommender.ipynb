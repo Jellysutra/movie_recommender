{
 "cells": [
  {
   "cell_type": "markdown",
   "id": "04a9696a",
   "metadata": {
    "id": "04a9696a"
   },
   "source": [
    "# Recommender Systems\n",
    "\n",
    "Demonstration for MH6221 Analytics Workshop 1\n",
    "\n",
    "---\n",
    "\n",
    "### Agenda\n",
    "\n",
    "In this demonstration, we cover:\n",
    "\n",
    "- Simple content-based recommendations using \"bag of words\" title and genre similarity\n",
    "- Collaborative filtering with user ratings\n",
    "- Cross-validation using Single Value Decomposition and K-Nearest Neighbours"
   ]
  },
  {
   "cell_type": "code",
   "execution_count": 1,
   "id": "6420dd6f",
   "metadata": {
    "id": "6420dd6f"
   },
   "outputs": [],
   "source": [
    "import pandas as pd\n",
    "from sklearn.feature_extraction.text import CountVectorizer\n",
    "from sklearn.metrics.pairwise import cosine_similarity\n",
    "from surprise import Dataset, Reader, SVD, KNNBasic\n",
    "from surprise.model_selection import cross_validate\n",
    "from surprise.model_selection import GridSearchCV\n",
    "import gradio as gr"
   ]
  },
  {
   "cell_type": "markdown",
   "id": "b07554bf",
   "metadata": {
    "id": "b07554bf"
   },
   "source": [
    "# Content Filtering Recommender\n",
    "\n",
    "First, we read our movies dataset.\n",
    "\n",
    "Columns and formats:\n",
    "- Movie ID (int)\n",
    "- Title (string)\n",
    "- Genres (string-serialised list)"
   ]
  },
  {
   "cell_type": "code",
   "execution_count": 2,
   "id": "0138d995",
   "metadata": {
    "id": "0138d995",
    "outputId": "7c070fac-626f-473e-c08a-41b54cf46645",
    "scrolled": true
   },
   "outputs": [
    {
     "data": {
      "text/html": [
       "<div>\n",
       "<style scoped>\n",
       "    .dataframe tbody tr th:only-of-type {\n",
       "        vertical-align: middle;\n",
       "    }\n",
       "\n",
       "    .dataframe tbody tr th {\n",
       "        vertical-align: top;\n",
       "    }\n",
       "\n",
       "    .dataframe thead th {\n",
       "        text-align: right;\n",
       "    }\n",
       "</style>\n",
       "<table border=\"1\" class=\"dataframe\">\n",
       "  <thead>\n",
       "    <tr style=\"text-align: right;\">\n",
       "      <th></th>\n",
       "      <th>movieId</th>\n",
       "      <th>title</th>\n",
       "      <th>genres</th>\n",
       "    </tr>\n",
       "  </thead>\n",
       "  <tbody>\n",
       "    <tr>\n",
       "      <th>0</th>\n",
       "      <td>1</td>\n",
       "      <td>Toy Story</td>\n",
       "      <td>Adventure|Animation|Children|Comedy|Fantasy</td>\n",
       "    </tr>\n",
       "    <tr>\n",
       "      <th>1</th>\n",
       "      <td>2</td>\n",
       "      <td>Jumanji</td>\n",
       "      <td>Adventure|Children|Fantasy</td>\n",
       "    </tr>\n",
       "    <tr>\n",
       "      <th>2</th>\n",
       "      <td>3</td>\n",
       "      <td>Grumpier Old Men</td>\n",
       "      <td>Comedy|Romance</td>\n",
       "    </tr>\n",
       "    <tr>\n",
       "      <th>3</th>\n",
       "      <td>4</td>\n",
       "      <td>Waiting to Exhale</td>\n",
       "      <td>Comedy|Drama|Romance</td>\n",
       "    </tr>\n",
       "    <tr>\n",
       "      <th>4</th>\n",
       "      <td>5</td>\n",
       "      <td>Father of the Bride Part II</td>\n",
       "      <td>Comedy</td>\n",
       "    </tr>\n",
       "  </tbody>\n",
       "</table>\n",
       "</div>"
      ],
      "text/plain": [
       "   movieId                        title  \\\n",
       "0        1                    Toy Story   \n",
       "1        2                      Jumanji   \n",
       "2        3             Grumpier Old Men   \n",
       "3        4            Waiting to Exhale   \n",
       "4        5  Father of the Bride Part II   \n",
       "\n",
       "                                        genres  \n",
       "0  Adventure|Animation|Children|Comedy|Fantasy  \n",
       "1                   Adventure|Children|Fantasy  \n",
       "2                               Comedy|Romance  \n",
       "3                         Comedy|Drama|Romance  \n",
       "4                                       Comedy  "
      ]
     },
     "execution_count": 2,
     "metadata": {},
     "output_type": "execute_result"
    }
   ],
   "source": [
    "movies_df = pd.read_csv('movies.csv')\n",
    "movies_df['title'] = movies_df['title'].map(lambda x: str(x)[:-7])\n",
    "movies_df.head()"
   ]
  },
  {
   "cell_type": "markdown",
   "id": "04743b08",
   "metadata": {
    "id": "04743b08"
   },
   "source": [
    "## Ingestion and checks\n",
    "\n",
    "Run a few simple summary statistics to make sure all is in order."
   ]
  },
  {
   "cell_type": "code",
   "execution_count": null,
   "id": "5c0c4b78",
   "metadata": {
    "id": "5c0c4b78",
    "outputId": "77acc2bb-07c9-44c8-90a7-92662a14bc86"
   },
   "outputs": [
    {
     "data": {
      "text/plain": [
       "(9125, 3)"
      ]
     },
     "execution_count": 24,
     "metadata": {},
     "output_type": "execute_result"
    }
   ],
   "source": [
    "movies_df.shape"
   ]
  },
  {
   "cell_type": "code",
   "execution_count": null,
   "id": "20094327",
   "metadata": {
    "id": "20094327",
    "outputId": "3988002b-08af-49f6-dadb-6b07285bd476"
   },
   "outputs": [
    {
     "data": {
      "text/html": [
       "<div>\n",
       "<style scoped>\n",
       "    .dataframe tbody tr th:only-of-type {\n",
       "        vertical-align: middle;\n",
       "    }\n",
       "\n",
       "    .dataframe tbody tr th {\n",
       "        vertical-align: top;\n",
       "    }\n",
       "\n",
       "    .dataframe thead th {\n",
       "        text-align: right;\n",
       "    }\n",
       "</style>\n",
       "<table border=\"1\" class=\"dataframe\">\n",
       "  <thead>\n",
       "    <tr style=\"text-align: right;\">\n",
       "      <th></th>\n",
       "      <th>title</th>\n",
       "      <th>genres</th>\n",
       "    </tr>\n",
       "  </thead>\n",
       "  <tbody>\n",
       "    <tr>\n",
       "      <th>count</th>\n",
       "      <td>9125</td>\n",
       "      <td>9125</td>\n",
       "    </tr>\n",
       "    <tr>\n",
       "      <th>unique</th>\n",
       "      <td>8893</td>\n",
       "      <td>902</td>\n",
       "    </tr>\n",
       "    <tr>\n",
       "      <th>top</th>\n",
       "      <td>Hamlet</td>\n",
       "      <td>Drama</td>\n",
       "    </tr>\n",
       "    <tr>\n",
       "      <th>freq</th>\n",
       "      <td>6</td>\n",
       "      <td>1170</td>\n",
       "    </tr>\n",
       "  </tbody>\n",
       "</table>\n",
       "</div>"
      ],
      "text/plain": [
       "         title genres\n",
       "count     9125   9125\n",
       "unique    8893    902\n",
       "top     Hamlet  Drama\n",
       "freq         6   1170"
      ]
     },
     "execution_count": 25,
     "metadata": {},
     "output_type": "execute_result"
    }
   ],
   "source": [
    "movies_df.describe(include=['object'])"
   ]
  },
  {
   "cell_type": "code",
   "execution_count": null,
   "id": "afed8ae8",
   "metadata": {
    "id": "afed8ae8",
    "outputId": "17a3e593-7c6b-4d3f-bd5d-087073801e84"
   },
   "outputs": [
    {
     "data": {
      "text/html": [
       "<div>\n",
       "<style scoped>\n",
       "    .dataframe tbody tr th:only-of-type {\n",
       "        vertical-align: middle;\n",
       "    }\n",
       "\n",
       "    .dataframe tbody tr th {\n",
       "        vertical-align: top;\n",
       "    }\n",
       "\n",
       "    .dataframe thead th {\n",
       "        text-align: right;\n",
       "    }\n",
       "</style>\n",
       "<table border=\"1\" class=\"dataframe\">\n",
       "  <thead>\n",
       "    <tr style=\"text-align: right;\">\n",
       "      <th></th>\n",
       "      <th>movieId</th>\n",
       "    </tr>\n",
       "  </thead>\n",
       "  <tbody>\n",
       "    <tr>\n",
       "      <th>count</th>\n",
       "      <td>9125.000000</td>\n",
       "    </tr>\n",
       "    <tr>\n",
       "      <th>mean</th>\n",
       "      <td>31123.291836</td>\n",
       "    </tr>\n",
       "    <tr>\n",
       "      <th>std</th>\n",
       "      <td>40782.633604</td>\n",
       "    </tr>\n",
       "    <tr>\n",
       "      <th>min</th>\n",
       "      <td>1.000000</td>\n",
       "    </tr>\n",
       "    <tr>\n",
       "      <th>25%</th>\n",
       "      <td>2850.000000</td>\n",
       "    </tr>\n",
       "    <tr>\n",
       "      <th>50%</th>\n",
       "      <td>6290.000000</td>\n",
       "    </tr>\n",
       "    <tr>\n",
       "      <th>75%</th>\n",
       "      <td>56274.000000</td>\n",
       "    </tr>\n",
       "    <tr>\n",
       "      <th>max</th>\n",
       "      <td>164979.000000</td>\n",
       "    </tr>\n",
       "  </tbody>\n",
       "</table>\n",
       "</div>"
      ],
      "text/plain": [
       "             movieId\n",
       "count    9125.000000\n",
       "mean    31123.291836\n",
       "std     40782.633604\n",
       "min         1.000000\n",
       "25%      2850.000000\n",
       "50%      6290.000000\n",
       "75%     56274.000000\n",
       "max    164979.000000"
      ]
     },
     "execution_count": 26,
     "metadata": {},
     "output_type": "execute_result"
    }
   ],
   "source": [
    "movies_df.describe()"
   ]
  },
  {
   "cell_type": "markdown",
   "id": "864a7c2c",
   "metadata": {
    "id": "864a7c2c"
   },
   "source": [
    "## Data preprocessing\n",
    "\n",
    "Sanitise and reformat strings into a suitable \"bag of words\" format.\n",
    "\n",
    "- Split by separator\n",
    "- For titles, split to individual words\n",
    "- Strip spaces, make words case-insensitive"
   ]
  },
  {
   "cell_type": "code",
   "execution_count": 3,
   "id": "8985025b",
   "metadata": {
    "id": "8985025b"
   },
   "outputs": [],
   "source": [
    "movies_df['genre'] = movies_df['genres'].map(lambda x: x.split('|'))\n",
    "movies_df['title_name'] = movies_df['title'].map(lambda x: x.split(' '))\n",
    "\n",
    "for index, row in movies_df.iterrows():\n",
    "    \n",
    "    row['genre'] = [x.lower().replace(' ','') for x in row['genre']]\n",
    "    row['title_name'] = [x.lower().replace(' ','') for x in row['title_name']]\n",
    "\n",
    "new_movies_df = movies_df[['movieId', 'title','genre','title_name']]"
   ]
  },
  {
   "cell_type": "code",
   "execution_count": 4,
   "id": "e72a2b12",
   "metadata": {
    "id": "e72a2b12",
    "outputId": "3f36e44c-f70e-4af7-9c0d-3aba105eef24"
   },
   "outputs": [
    {
     "data": {
      "text/html": [
       "<div>\n",
       "<style scoped>\n",
       "    .dataframe tbody tr th:only-of-type {\n",
       "        vertical-align: middle;\n",
       "    }\n",
       "\n",
       "    .dataframe tbody tr th {\n",
       "        vertical-align: top;\n",
       "    }\n",
       "\n",
       "    .dataframe thead th {\n",
       "        text-align: right;\n",
       "    }\n",
       "</style>\n",
       "<table border=\"1\" class=\"dataframe\">\n",
       "  <thead>\n",
       "    <tr style=\"text-align: right;\">\n",
       "      <th></th>\n",
       "      <th>movieId</th>\n",
       "      <th>title</th>\n",
       "      <th>bag_of_words</th>\n",
       "    </tr>\n",
       "  </thead>\n",
       "  <tbody>\n",
       "    <tr>\n",
       "      <th>0</th>\n",
       "      <td>1</td>\n",
       "      <td>Toy Story</td>\n",
       "      <td>Adventure Animation Children Comedy Fantasy To...</td>\n",
       "    </tr>\n",
       "    <tr>\n",
       "      <th>1</th>\n",
       "      <td>2</td>\n",
       "      <td>Jumanji</td>\n",
       "      <td>Adventure Children Fantasy Jumanji</td>\n",
       "    </tr>\n",
       "    <tr>\n",
       "      <th>2</th>\n",
       "      <td>3</td>\n",
       "      <td>Grumpier Old Men</td>\n",
       "      <td>Comedy Romance Grumpier Old Men</td>\n",
       "    </tr>\n",
       "    <tr>\n",
       "      <th>3</th>\n",
       "      <td>4</td>\n",
       "      <td>Waiting to Exhale</td>\n",
       "      <td>Comedy Drama Romance Waiting to Exhale</td>\n",
       "    </tr>\n",
       "    <tr>\n",
       "      <th>4</th>\n",
       "      <td>5</td>\n",
       "      <td>Father of the Bride Part II</td>\n",
       "      <td>Comedy Father of the Bride Part II</td>\n",
       "    </tr>\n",
       "  </tbody>\n",
       "</table>\n",
       "</div>"
      ],
      "text/plain": [
       "   movieId                        title  \\\n",
       "0        1                    Toy Story   \n",
       "1        2                      Jumanji   \n",
       "2        3             Grumpier Old Men   \n",
       "3        4            Waiting to Exhale   \n",
       "4        5  Father of the Bride Part II   \n",
       "\n",
       "                                        bag_of_words  \n",
       "0  Adventure Animation Children Comedy Fantasy To...  \n",
       "1                 Adventure Children Fantasy Jumanji  \n",
       "2                    Comedy Romance Grumpier Old Men  \n",
       "3             Comedy Drama Romance Waiting to Exhale  \n",
       "4                 Comedy Father of the Bride Part II  "
      ]
     },
     "execution_count": 4,
     "metadata": {},
     "output_type": "execute_result"
    }
   ],
   "source": [
    "new_movies_df['Bag of words'] = new_movies_df['genre'] + new_movies_df['title_name']\n",
    "new_movies_df['bag_of_words'] = [' '.join(map(str, l)) for l in new_movies_df['Bag of words']]\n",
    "final_movies_df = new_movies_df.drop(columns=['genre','title_name', 'Bag of words'])\n",
    "final_movies_df.head()"
   ]
  },
  {
   "cell_type": "markdown",
   "id": "cf1f8d51",
   "metadata": {
    "id": "cf1f8d51"
   },
   "source": [
    "## Similarity\n",
    "\n",
    "Vectorise word appearances and calculate cosine similarity. Cosine similarity matrix between each movie is shown below.\n",
    "\n",
    "**NOTE:** We only count appearances, not occurences. (multiple instances in one row will be counted as one appearance)"
   ]
  },
  {
   "cell_type": "code",
   "execution_count": 5,
   "id": "3c3ffe1d",
   "metadata": {
    "id": "3c3ffe1d",
    "outputId": "0eb67773-3810-44a0-8005-7bf0bd8ae5a8"
   },
   "outputs": [
    {
     "name": "stdout",
     "output_type": "stream",
     "text": [
      "[[1.         0.56694671 0.16903085 ... 0.         0.14285714 0.13363062]\n",
      " [0.56694671 1.         0.         ... 0.         0.         0.        ]\n",
      " [0.16903085 0.         1.         ... 0.         0.         0.15811388]\n",
      " ...\n",
      " [0.         0.         0.         ... 1.         0.         0.        ]\n",
      " [0.14285714 0.         0.         ... 0.         1.         0.        ]\n",
      " [0.13363062 0.         0.15811388 ... 0.         0.         1.        ]]\n"
     ]
    }
   ],
   "source": [
    "count_vectorizer = CountVectorizer()\n",
    "count_matrix = count_vectorizer.fit_transform(final_movies_df['bag_of_words'])\n",
    "cosine_sim = cosine_similarity(count_matrix, count_matrix)\n",
    "print(cosine_sim)"
   ]
  },
  {
   "cell_type": "markdown",
   "id": "c775585d",
   "metadata": {
    "id": "c775585d"
   },
   "source": [
    "## Recommendation modelling\n",
    "\n",
    "Based on an input movie already in the database, this function recommends 10 similar movies also in the database.\n",
    "\n",
    "As the similarity matrix is precomputed, recommendations are generated very quickly."
   ]
  },
  {
   "cell_type": "code",
   "execution_count": 6,
   "id": "d192d713",
   "metadata": {
    "id": "d192d713"
   },
   "outputs": [],
   "source": [
    "def recommend(title, movie_df, cosine_sim):\n",
    "    \n",
    "    recommended_movies = []\n",
    "    if title not in list(movie_df.title):\n",
    "        print('Error: please ensure that movies dataframe contains your query title.')\n",
    "        return\n",
    "\n",
    "    title_idx = movie_df[movie_df['title'] == title].index[0]\n",
    "    sorted_similarities = pd.Series(cosine_sim[title_idx]).sort_values(ascending = False)\n",
    "    top_10_indices = sorted_similarities.index[1:21] # highest similarity idx is movie itself (= 1)\n",
    "    \n",
    "    movie_titles = movie_df['title'].tolist()\n",
    "    for i in top_10_indices:\n",
    "        recommended_movies.append(movie_titles[i])\n",
    "        \n",
    "    return recommended_movies"
   ]
  },
  {
   "cell_type": "code",
   "execution_count": 7,
   "id": "3a9fda2a",
   "metadata": {
    "id": "3a9fda2a",
    "outputId": "a85ad096-380d-4d00-c1d7-82caa5655b4d",
    "scrolled": true
   },
   "outputs": [
    {
     "data": {
      "text/plain": [
       "['Pan',\n",
       " \"Pete's Dragon\",\n",
       " 'MirrorMask',\n",
       " 'Halloweentown',\n",
       " 'G-Force',\n",
       " \"Gulliver's Travels\",\n",
       " 'Seventh Son',\n",
       " 'Zathura',\n",
       " 'Moana',\n",
       " 'Bridge to Terabithia',\n",
       " 'Antz',\n",
       " 'NeverEnding Story, The',\n",
       " 'Golden Compass, The',\n",
       " 'Tall Tale',\n",
       " 'Return to Oz',\n",
       " 'Peter Pan',\n",
       " 'Turbo',\n",
       " 'Alice in Wonderland',\n",
       " 'Borrowers, The',\n",
       " 'Halloweentown High']"
      ]
     },
     "execution_count": 7,
     "metadata": {},
     "output_type": "execute_result"
    }
   ],
   "source": [
    "recommend('Jumanji', final_movies_df, cosine_sim)"
   ]
  },
  {
   "cell_type": "markdown",
   "id": "bbaf8034",
   "metadata": {
    "id": "bbaf8034"
   },
   "source": [
    "# Collaboration Filtering Recommender\n",
    "\n",
    "This recommender uses user movie ratings to recommend movies that users similar to the target user rated highly.\n",
    "\n",
    "**Desired outcome:** Target user highly rates the movie which recommended to them.\n",
    "\n",
    "For this, we using a user-ratings table, tied to the previous movies dataset.\n",
    "\n",
    "Columns and formats:\n",
    "- User ID (int)\n",
    "- Movie ID (int, corresponds to movie ID in movies dataset)\n",
    "- Rating (int, 1 to 5)\n",
    "- Timestamp (serialised)"
   ]
  },
  {
   "cell_type": "code",
   "execution_count": 8,
   "id": "cfe3cc76",
   "metadata": {
    "id": "cfe3cc76",
    "outputId": "9d44af8b-8cf3-42fe-ce87-9903dffb6abd"
   },
   "outputs": [
    {
     "data": {
      "text/html": [
       "<div>\n",
       "<style scoped>\n",
       "    .dataframe tbody tr th:only-of-type {\n",
       "        vertical-align: middle;\n",
       "    }\n",
       "\n",
       "    .dataframe tbody tr th {\n",
       "        vertical-align: top;\n",
       "    }\n",
       "\n",
       "    .dataframe thead th {\n",
       "        text-align: right;\n",
       "    }\n",
       "</style>\n",
       "<table border=\"1\" class=\"dataframe\">\n",
       "  <thead>\n",
       "    <tr style=\"text-align: right;\">\n",
       "      <th></th>\n",
       "      <th>userId</th>\n",
       "      <th>movieId</th>\n",
       "      <th>rating</th>\n",
       "      <th>timestamp</th>\n",
       "    </tr>\n",
       "  </thead>\n",
       "  <tbody>\n",
       "    <tr>\n",
       "      <th>0</th>\n",
       "      <td>1</td>\n",
       "      <td>1</td>\n",
       "      <td>4.0</td>\n",
       "      <td>964982703</td>\n",
       "    </tr>\n",
       "    <tr>\n",
       "      <th>1</th>\n",
       "      <td>1</td>\n",
       "      <td>3</td>\n",
       "      <td>4.0</td>\n",
       "      <td>964981247</td>\n",
       "    </tr>\n",
       "    <tr>\n",
       "      <th>2</th>\n",
       "      <td>1</td>\n",
       "      <td>6</td>\n",
       "      <td>4.0</td>\n",
       "      <td>964982224</td>\n",
       "    </tr>\n",
       "    <tr>\n",
       "      <th>3</th>\n",
       "      <td>1</td>\n",
       "      <td>47</td>\n",
       "      <td>5.0</td>\n",
       "      <td>964983815</td>\n",
       "    </tr>\n",
       "    <tr>\n",
       "      <th>4</th>\n",
       "      <td>1</td>\n",
       "      <td>50</td>\n",
       "      <td>5.0</td>\n",
       "      <td>964982931</td>\n",
       "    </tr>\n",
       "  </tbody>\n",
       "</table>\n",
       "</div>"
      ],
      "text/plain": [
       "   userId  movieId  rating  timestamp\n",
       "0       1        1     4.0  964982703\n",
       "1       1        3     4.0  964981247\n",
       "2       1        6     4.0  964982224\n",
       "3       1       47     5.0  964983815\n",
       "4       1       50     5.0  964982931"
      ]
     },
     "execution_count": 8,
     "metadata": {},
     "output_type": "execute_result"
    }
   ],
   "source": [
    "user_df = pd.read_csv('ratings.csv')\n",
    "user_df.head()"
   ]
  },
  {
   "cell_type": "markdown",
   "id": "b6799b24",
   "metadata": {
    "id": "b6799b24"
   },
   "source": [
    "## Ingestion and checks\n",
    "\n",
    "Run a few simple summary statistics to check the ratings dataset as well."
   ]
  },
  {
   "cell_type": "code",
   "execution_count": null,
   "id": "4eb011c0",
   "metadata": {
    "id": "4eb011c0",
    "outputId": "905a520c-2659-432c-abad-2568e7f0a700",
    "scrolled": true
   },
   "outputs": [
    {
     "data": {
      "text/plain": [
       "(100000, 4)"
      ]
     },
     "execution_count": 33,
     "metadata": {},
     "output_type": "execute_result"
    }
   ],
   "source": [
    "user_df.shape"
   ]
  },
  {
   "cell_type": "code",
   "execution_count": null,
   "id": "d3469d30",
   "metadata": {
    "id": "d3469d30",
    "outputId": "58225b2d-56fc-416c-b7e8-a297dee70977"
   },
   "outputs": [
    {
     "data": {
      "text/html": [
       "<div>\n",
       "<style scoped>\n",
       "    .dataframe tbody tr th:only-of-type {\n",
       "        vertical-align: middle;\n",
       "    }\n",
       "\n",
       "    .dataframe tbody tr th {\n",
       "        vertical-align: top;\n",
       "    }\n",
       "\n",
       "    .dataframe thead th {\n",
       "        text-align: right;\n",
       "    }\n",
       "</style>\n",
       "<table border=\"1\" class=\"dataframe\">\n",
       "  <thead>\n",
       "    <tr style=\"text-align: right;\">\n",
       "      <th></th>\n",
       "      <th>userId</th>\n",
       "      <th>movieId</th>\n",
       "      <th>rating</th>\n",
       "      <th>timestamp</th>\n",
       "    </tr>\n",
       "  </thead>\n",
       "  <tbody>\n",
       "    <tr>\n",
       "      <th>count</th>\n",
       "      <td>100000.00000</td>\n",
       "      <td>100000.000000</td>\n",
       "      <td>100000.000000</td>\n",
       "      <td>1.000000e+05</td>\n",
       "    </tr>\n",
       "    <tr>\n",
       "      <th>mean</th>\n",
       "      <td>462.48475</td>\n",
       "      <td>425.530130</td>\n",
       "      <td>3.529860</td>\n",
       "      <td>8.835289e+08</td>\n",
       "    </tr>\n",
       "    <tr>\n",
       "      <th>std</th>\n",
       "      <td>266.61442</td>\n",
       "      <td>330.798356</td>\n",
       "      <td>1.125674</td>\n",
       "      <td>5.343856e+06</td>\n",
       "    </tr>\n",
       "    <tr>\n",
       "      <th>min</th>\n",
       "      <td>1.00000</td>\n",
       "      <td>1.000000</td>\n",
       "      <td>1.000000</td>\n",
       "      <td>8.747247e+08</td>\n",
       "    </tr>\n",
       "    <tr>\n",
       "      <th>25%</th>\n",
       "      <td>254.00000</td>\n",
       "      <td>175.000000</td>\n",
       "      <td>3.000000</td>\n",
       "      <td>8.794487e+08</td>\n",
       "    </tr>\n",
       "    <tr>\n",
       "      <th>50%</th>\n",
       "      <td>447.00000</td>\n",
       "      <td>322.000000</td>\n",
       "      <td>4.000000</td>\n",
       "      <td>8.828269e+08</td>\n",
       "    </tr>\n",
       "    <tr>\n",
       "      <th>75%</th>\n",
       "      <td>682.00000</td>\n",
       "      <td>631.000000</td>\n",
       "      <td>4.000000</td>\n",
       "      <td>8.882600e+08</td>\n",
       "    </tr>\n",
       "    <tr>\n",
       "      <th>max</th>\n",
       "      <td>943.00000</td>\n",
       "      <td>1682.000000</td>\n",
       "      <td>5.000000</td>\n",
       "      <td>8.932866e+08</td>\n",
       "    </tr>\n",
       "  </tbody>\n",
       "</table>\n",
       "</div>"
      ],
      "text/plain": [
       "             userId        movieId         rating     timestamp\n",
       "count  100000.00000  100000.000000  100000.000000  1.000000e+05\n",
       "mean      462.48475     425.530130       3.529860  8.835289e+08\n",
       "std       266.61442     330.798356       1.125674  5.343856e+06\n",
       "min         1.00000       1.000000       1.000000  8.747247e+08\n",
       "25%       254.00000     175.000000       3.000000  8.794487e+08\n",
       "50%       447.00000     322.000000       4.000000  8.828269e+08\n",
       "75%       682.00000     631.000000       4.000000  8.882600e+08\n",
       "max       943.00000    1682.000000       5.000000  8.932866e+08"
      ]
     },
     "execution_count": 34,
     "metadata": {},
     "output_type": "execute_result"
    }
   ],
   "source": [
    "user_df.describe()"
   ]
  },
  {
   "cell_type": "markdown",
   "id": "55cf923b",
   "metadata": {
    "id": "55cf923b"
   },
   "source": [
    "## Build data set\n",
    "\n",
    "Build a full dataset from our user-ratings data.\n",
    "\n",
    "**NOTE:** We ignore timestamp for simplicity of demonstrating the concept, but a time decay factor could yield additional prediction power (recent ratings are more likely to be representative than older ones)."
   ]
  },
  {
   "cell_type": "code",
   "execution_count": 9,
   "id": "cad887df",
   "metadata": {
    "id": "cad887df"
   },
   "outputs": [],
   "source": [
    "data = Dataset.load_from_df(user_df[['userId', 'movieId', 'rating']], Reader())\n",
    "data_train = data.build_full_trainset()"
   ]
  },
  {
   "cell_type": "markdown",
   "id": "af05a94f",
   "metadata": {
    "id": "af05a94f"
   },
   "source": [
    "## Finding the ideal recommender\n",
    "\n",
    "2 types are tested in this demonstration: SVD and KNN.\n",
    "\n",
    "---\n",
    "\n",
    "### Singular Value Decomposition (SVD)"
   ]
  },
  {
   "cell_type": "code",
   "execution_count": null,
   "id": "5f29036c",
   "metadata": {
    "id": "5f29036c",
    "outputId": "6896bb30-4229-4715-e9fe-3c980a12fdf9",
    "scrolled": true
   },
   "outputs": [
    {
     "data": {
      "text/plain": [
       "{'test_rmse': array([0.94040942, 0.94035754, 0.92704873, 0.9402736 , 0.93715993]),\n",
       " 'test_mae': array([0.74046544, 0.74201133, 0.73170769, 0.74008957, 0.73830493]),\n",
       " 'fit_time': (7.356231927871704,\n",
       "  7.312633991241455,\n",
       "  7.318242073059082,\n",
       "  7.332475185394287,\n",
       "  7.346334934234619),\n",
       " 'test_time': (0.48653578758239746,\n",
       "  0.4798588752746582,\n",
       "  0.47815394401550293,\n",
       "  0.4732837677001953,\n",
       "  0.4705379009246826)}"
      ]
     },
     "execution_count": 36,
     "metadata": {},
     "output_type": "execute_result"
    }
   ],
   "source": [
    "svd_recomender_model = SVD()\n",
    "cross_validate(svd_recomender_model, data, measures=['rmse', 'mae'], cv=5)"
   ]
  },
  {
   "cell_type": "code",
   "execution_count": null,
   "id": "5079830f",
   "metadata": {
    "id": "5079830f",
    "outputId": "effd1505-7b7c-448e-9b6d-87caa5aac090"
   },
   "outputs": [
    {
     "data": {
      "text/plain": [
       "<surprise.prediction_algorithms.matrix_factorization.SVD at 0x12facfc10>"
      ]
     },
     "execution_count": 37,
     "metadata": {},
     "output_type": "execute_result"
    }
   ],
   "source": [
    "svd_recomender_model.fit(data_train)"
   ]
  },
  {
   "cell_type": "code",
   "execution_count": null,
   "id": "ab08aa93",
   "metadata": {
    "id": "ab08aa93",
    "outputId": "1c270b23-5235-4fe1-f567-8212fca60cc3"
   },
   "outputs": [
    {
     "data": {
      "text/plain": [
       "Prediction(uid=1, iid=1, r_ui=None, est=3.880759152958209, details={'was_impossible': False})"
      ]
     },
     "execution_count": 38,
     "metadata": {},
     "output_type": "execute_result"
    }
   ],
   "source": [
    "svd_recomender_model.predict(1, 1)"
   ]
  },
  {
   "cell_type": "markdown",
   "id": "dcf82299",
   "metadata": {
    "id": "dcf82299"
   },
   "source": [
    "### K-nearest neighbours (KNN)"
   ]
  },
  {
   "cell_type": "code",
   "execution_count": null,
   "id": "189835e5",
   "metadata": {
    "id": "189835e5",
    "outputId": "f179cf38-6ce8-473c-8754-457ed97ba704"
   },
   "outputs": [
    {
     "name": "stdout",
     "output_type": "stream",
     "text": [
      "Computing the msd similarity matrix...\n",
      "Done computing similarity matrix.\n",
      "Computing the msd similarity matrix...\n",
      "Done computing similarity matrix.\n",
      "Computing the msd similarity matrix...\n",
      "Done computing similarity matrix.\n",
      "Computing the msd similarity matrix...\n",
      "Done computing similarity matrix.\n",
      "Computing the msd similarity matrix...\n",
      "Done computing similarity matrix.\n"
     ]
    },
    {
     "data": {
      "text/plain": [
       "{'test_rmse': array([0.97824658, 0.9821069 , 0.97479225, 0.98342658, 0.97154262]),\n",
       " 'test_mae': array([0.7751123 , 0.77557099, 0.76779762, 0.77626524, 0.76775025]),\n",
       " 'fit_time': (0.42267918586730957,\n",
       "  0.46935606002807617,\n",
       "  0.45532894134521484,\n",
       "  0.4592478275299072,\n",
       "  0.5928571224212646),\n",
       " 'test_time': (9.25972604751587,\n",
       "  9.007874011993408,\n",
       "  8.888593912124634,\n",
       "  9.36017918586731,\n",
       "  9.170369148254395)}"
      ]
     },
     "execution_count": 39,
     "metadata": {},
     "output_type": "execute_result"
    }
   ],
   "source": [
    "knn = KNNBasic()\n",
    "cross_validate(knn, data, measures=['rmse', 'mae'], cv=5)"
   ]
  },
  {
   "cell_type": "code",
   "execution_count": null,
   "id": "e4ec24dd",
   "metadata": {
    "id": "e4ec24dd",
    "outputId": "c41f537d-38a3-4e06-af8e-2d9fb2c2176b"
   },
   "outputs": [
    {
     "name": "stdout",
     "output_type": "stream",
     "text": [
      "Computing the msd similarity matrix...\n",
      "Done computing similarity matrix.\n"
     ]
    },
    {
     "data": {
      "text/plain": [
       "<surprise.prediction_algorithms.knns.KNNBasic at 0x12fb04290>"
      ]
     },
     "execution_count": 40,
     "metadata": {},
     "output_type": "execute_result"
    }
   ],
   "source": [
    "knn.fit(data_train)"
   ]
  },
  {
   "cell_type": "code",
   "execution_count": null,
   "id": "c8574bbb",
   "metadata": {
    "id": "c8574bbb",
    "outputId": "5e6e852b-2fa4-4b6f-bbaa-e8b96430efc5"
   },
   "outputs": [
    {
     "data": {
      "text/plain": [
       "Prediction(uid=1, iid=1, r_ui=None, est=4.1299713089494405, details={'actual_k': 40, 'was_impossible': False})"
      ]
     },
     "execution_count": 41,
     "metadata": {},
     "output_type": "execute_result"
    }
   ],
   "source": [
    "knn.predict(1, 1)"
   ]
  },
  {
   "cell_type": "code",
   "execution_count": null,
   "id": "ae5de5d3",
   "metadata": {
    "id": "ae5de5d3",
    "outputId": "eff98138-b4eb-48cf-e605-3f9013ded594"
   },
   "outputs": [
    {
     "name": "stdout",
     "output_type": "stream",
     "text": [
      "RMSE scores\n",
      "SVD: 0.937049844\n",
      "KNN: 0.978022986\n"
     ]
    }
   ],
   "source": [
    "svd_mean_rmse = sum([0.94040942, 0.94035754, 0.92704873, 0.9402736 , 0.93715993])/5\n",
    "knn_mean_rmse = sum([0.97824658, 0.9821069 , 0.97479225, 0.98342658, 0.97154262])/5\n",
    "\n",
    "print('RMSE scores')\n",
    "print(f'SVD: {svd_mean_rmse}')\n",
    "print(f'KNN: {knn_mean_rmse}')"
   ]
  },
  {
   "cell_type": "markdown",
   "id": "2de09c20",
   "metadata": {
    "id": "2de09c20"
   },
   "source": [
    "### Choosing our recommender\n",
    "\n",
    "With SVD having a better RMSE score, we proceeded to continue with it.\n",
    "\n",
    "SVD|KNN\n",
    "---|---\n",
    "0.937|0.978"
   ]
  },
  {
   "cell_type": "markdown",
   "id": "03042904",
   "metadata": {
    "id": "03042904"
   },
   "source": [
    "## Finding the best parameters\n",
    "\n",
    "`GridSearchCV` performs an exhaustive search over various combinations of parameters, computing accuracy metrics on our chosen SVD algorithm in order to find the best parameters.\n",
    "\n",
    "##### It may take upwards to 30min to run."
   ]
  },
  {
   "cell_type": "code",
   "execution_count": 10,
   "id": "da731779",
   "metadata": {
    "id": "da731779",
    "outputId": "d8c96d9c-9820-4f81-e63c-39dce4564acc"
   },
   "outputs": [
    {
     "name": "stdout",
     "output_type": "stream",
     "text": [
      "0.8724982089680967\n",
      "{'n_epochs': 40, 'lr_all': 0.01, 'reg_all': 0.3, 'random_state': 88}\n"
     ]
    }
   ],
   "source": [
    "param_grid = {\"n_epochs\": [40,50,60], \"lr_all\": [0.01, 0.015], \"reg_all\": [0.4, 0.3], 'random_state':[88]}\n",
    "gs = GridSearchCV(SVD, param_grid, measures=[\"rmse\", \"mae\"], cv=7)\n",
    "\n",
    "gs.fit(data)\n",
    "\n",
    "\n",
    "# best RMSE score\n",
    "print(gs.best_score[\"rmse\"])\n",
    "\n",
    "# combination of parameters that gave the best RMSE score\n",
    "print(gs.best_params[\"rmse\"])"
   ]
  },
  {
   "cell_type": "markdown",
   "id": "d62c1280",
   "metadata": {
    "id": "d62c1280"
   },
   "source": [
    "Now we can use the estimator that yields the best RMSE."
   ]
  },
  {
   "cell_type": "code",
   "execution_count": 11,
   "id": "97a8e132",
   "metadata": {
    "id": "97a8e132",
    "outputId": "c8d7bde0-5086-4af8-c4a7-dc90f79bf82b"
   },
   "outputs": [
    {
     "data": {
      "text/plain": [
       "<surprise.prediction_algorithms.matrix_factorization.SVD at 0x20be0cfedc0>"
      ]
     },
     "execution_count": 11,
     "metadata": {},
     "output_type": "execute_result"
    }
   ],
   "source": [
    "svd_algo = gs.best_estimator[\"rmse\"]\n",
    "svd_algo.fit(data.build_full_trainset())"
   ]
  },
  {
   "cell_type": "code",
   "execution_count": 12,
   "id": "58a0fbda",
   "metadata": {
    "id": "58a0fbda"
   },
   "outputs": [],
   "source": [
    "# Find the list of unique IDs for users and movies\n",
    "idnos = list(user_df['userId'].unique())\n",
    "movienos = list(user_df['movieId'].unique())"
   ]
  },
  {
   "cell_type": "markdown",
   "id": "b3e7f020",
   "metadata": {
    "id": "b3e7f020"
   },
   "source": [
    "## Predicted ratings\n",
    "\n",
    "For each movie that a user hasn't watched, predict the user's score if they watch it.\n",
    "\n",
    "Again, this is precomputed so recommendations emerge quickly when requested."
   ]
  },
  {
   "cell_type": "code",
   "execution_count": 13,
   "id": "b458d1a5",
   "metadata": {
    "id": "b458d1a5"
   },
   "outputs": [],
   "source": [
    "ratings = [] \n",
    "user_id = []\n",
    "movie_id = []\n",
    "final_ratings = pd.DataFrame()\n",
    "\n",
    "for x in idnos:\n",
    "    for i in movienos:\n",
    "        user_id.append(x)\n",
    "        y = svd_algo.predict(x, i)\n",
    "        ratings.append(y[3])\n",
    "        movie_id.append(y[1])\n",
    "        \n",
    "final_ratings['userId'] = user_id\n",
    "final_ratings['movieId'] = movie_id\n",
    "final_ratings['predicted rating'] = ratings"
   ]
  },
  {
   "cell_type": "code",
   "execution_count": 59,
   "id": "86fc6843",
   "metadata": {},
   "outputs": [
    {
     "data": {
      "text/html": [
       "<div>\n",
       "<style scoped>\n",
       "    .dataframe tbody tr th:only-of-type {\n",
       "        vertical-align: middle;\n",
       "    }\n",
       "\n",
       "    .dataframe tbody tr th {\n",
       "        vertical-align: top;\n",
       "    }\n",
       "\n",
       "    .dataframe thead th {\n",
       "        text-align: right;\n",
       "    }\n",
       "</style>\n",
       "<table border=\"1\" class=\"dataframe\">\n",
       "  <thead>\n",
       "    <tr style=\"text-align: right;\">\n",
       "      <th></th>\n",
       "      <th>userId</th>\n",
       "      <th>movieId</th>\n",
       "      <th>predicted rating</th>\n",
       "    </tr>\n",
       "  </thead>\n",
       "  <tbody>\n",
       "    <tr>\n",
       "      <th>0</th>\n",
       "      <td>1</td>\n",
       "      <td>1</td>\n",
       "      <td>4.469234</td>\n",
       "    </tr>\n",
       "    <tr>\n",
       "      <th>1</th>\n",
       "      <td>1</td>\n",
       "      <td>3</td>\n",
       "      <td>3.921582</td>\n",
       "    </tr>\n",
       "    <tr>\n",
       "      <th>2</th>\n",
       "      <td>1</td>\n",
       "      <td>6</td>\n",
       "      <td>4.512606</td>\n",
       "    </tr>\n",
       "    <tr>\n",
       "      <th>3</th>\n",
       "      <td>1</td>\n",
       "      <td>47</td>\n",
       "      <td>4.552512</td>\n",
       "    </tr>\n",
       "    <tr>\n",
       "      <th>4</th>\n",
       "      <td>1</td>\n",
       "      <td>50</td>\n",
       "      <td>4.748446</td>\n",
       "    </tr>\n",
       "    <tr>\n",
       "      <th>...</th>\n",
       "      <td>...</td>\n",
       "      <td>...</td>\n",
       "      <td>...</td>\n",
       "    </tr>\n",
       "    <tr>\n",
       "      <th>5931635</th>\n",
       "      <td>610</td>\n",
       "      <td>160341</td>\n",
       "      <td>3.301183</td>\n",
       "    </tr>\n",
       "    <tr>\n",
       "      <th>5931636</th>\n",
       "      <td>610</td>\n",
       "      <td>160527</td>\n",
       "      <td>3.948788</td>\n",
       "    </tr>\n",
       "    <tr>\n",
       "      <th>5931637</th>\n",
       "      <td>610</td>\n",
       "      <td>160836</td>\n",
       "      <td>3.470038</td>\n",
       "    </tr>\n",
       "    <tr>\n",
       "      <th>5931638</th>\n",
       "      <td>610</td>\n",
       "      <td>163937</td>\n",
       "      <td>3.631114</td>\n",
       "    </tr>\n",
       "    <tr>\n",
       "      <th>5931639</th>\n",
       "      <td>610</td>\n",
       "      <td>163981</td>\n",
       "      <td>3.630240</td>\n",
       "    </tr>\n",
       "  </tbody>\n",
       "</table>\n",
       "<p>5931640 rows × 3 columns</p>\n",
       "</div>"
      ],
      "text/plain": [
       "         userId  movieId  predicted rating\n",
       "0             1        1          4.469234\n",
       "1             1        3          3.921582\n",
       "2             1        6          4.512606\n",
       "3             1       47          4.552512\n",
       "4             1       50          4.748446\n",
       "...         ...      ...               ...\n",
       "5931635     610   160341          3.301183\n",
       "5931636     610   160527          3.948788\n",
       "5931637     610   160836          3.470038\n",
       "5931638     610   163937          3.631114\n",
       "5931639     610   163981          3.630240\n",
       "\n",
       "[5931640 rows x 3 columns]"
      ]
     },
     "execution_count": 59,
     "metadata": {},
     "output_type": "execute_result"
    }
   ],
   "source": [
    "final_ratings"
   ]
  },
  {
   "cell_type": "code",
   "execution_count": 14,
   "id": "04af3488",
   "metadata": {
    "id": "04af3488",
    "outputId": "68b2b404-a766-417d-c03f-7c46660ca133"
   },
   "outputs": [
    {
     "data": {
      "text/html": [
       "<div>\n",
       "<style scoped>\n",
       "    .dataframe tbody tr th:only-of-type {\n",
       "        vertical-align: middle;\n",
       "    }\n",
       "\n",
       "    .dataframe tbody tr th {\n",
       "        vertical-align: top;\n",
       "    }\n",
       "\n",
       "    .dataframe thead th {\n",
       "        text-align: right;\n",
       "    }\n",
       "</style>\n",
       "<table border=\"1\" class=\"dataframe\">\n",
       "  <thead>\n",
       "    <tr style=\"text-align: right;\">\n",
       "      <th></th>\n",
       "      <th>userId</th>\n",
       "      <th>movieId</th>\n",
       "      <th>predicted rating</th>\n",
       "    </tr>\n",
       "  </thead>\n",
       "  <tbody>\n",
       "    <tr>\n",
       "      <th>232</th>\n",
       "      <td>1</td>\n",
       "      <td>318</td>\n",
       "      <td>4.876347</td>\n",
       "    </tr>\n",
       "    <tr>\n",
       "      <th>233</th>\n",
       "      <td>1</td>\n",
       "      <td>1704</td>\n",
       "      <td>4.628691</td>\n",
       "    </tr>\n",
       "    <tr>\n",
       "      <th>234</th>\n",
       "      <td>1</td>\n",
       "      <td>6874</td>\n",
       "      <td>4.606376</td>\n",
       "    </tr>\n",
       "    <tr>\n",
       "      <th>235</th>\n",
       "      <td>1</td>\n",
       "      <td>8798</td>\n",
       "      <td>4.374886</td>\n",
       "    </tr>\n",
       "    <tr>\n",
       "      <th>236</th>\n",
       "      <td>1</td>\n",
       "      <td>46970</td>\n",
       "      <td>4.077419</td>\n",
       "    </tr>\n",
       "  </tbody>\n",
       "</table>\n",
       "</div>"
      ],
      "text/plain": [
       "     userId  movieId  predicted rating\n",
       "232       1      318          4.876347\n",
       "233       1     1704          4.628691\n",
       "234       1     6874          4.606376\n",
       "235       1     8798          4.374886\n",
       "236       1    46970          4.077419"
      ]
     },
     "execution_count": 14,
     "metadata": {},
     "output_type": "execute_result"
    }
   ],
   "source": [
    "#To remove movies which the users have watched\n",
    "predicted_ratings = final_ratings.merge(user_df.drop_duplicates(), on=['userId', 'movieId'], how='left',\n",
    "                                       indicator = True)\n",
    "\n",
    "final_df = predicted_ratings[predicted_ratings['_merge'] == 'left_only']\n",
    "final_df = final_df.drop(columns=['rating','_merge','timestamp'])\n",
    "final_df.head()"
   ]
  },
  {
   "cell_type": "code",
   "execution_count": 15,
   "id": "3067c815",
   "metadata": {
    "id": "3067c815",
    "outputId": "6535da65-315d-4b19-9ec2-97b5c7911b23"
   },
   "outputs": [
    {
     "data": {
      "text/html": [
       "<div>\n",
       "<style scoped>\n",
       "    .dataframe tbody tr th:only-of-type {\n",
       "        vertical-align: middle;\n",
       "    }\n",
       "\n",
       "    .dataframe tbody tr th {\n",
       "        vertical-align: top;\n",
       "    }\n",
       "\n",
       "    .dataframe thead th {\n",
       "        text-align: right;\n",
       "    }\n",
       "</style>\n",
       "<table border=\"1\" class=\"dataframe\">\n",
       "  <thead>\n",
       "    <tr style=\"text-align: right;\">\n",
       "      <th></th>\n",
       "      <th>userId</th>\n",
       "      <th>movieId</th>\n",
       "      <th>predicted rating</th>\n",
       "      <th>title</th>\n",
       "    </tr>\n",
       "  </thead>\n",
       "  <tbody>\n",
       "    <tr>\n",
       "      <th>0</th>\n",
       "      <td>1</td>\n",
       "      <td>318</td>\n",
       "      <td>4.876347</td>\n",
       "      <td>Shawshank Redemption, The (1994)</td>\n",
       "    </tr>\n",
       "    <tr>\n",
       "      <th>1</th>\n",
       "      <td>3</td>\n",
       "      <td>318</td>\n",
       "      <td>3.282163</td>\n",
       "      <td>Shawshank Redemption, The (1994)</td>\n",
       "    </tr>\n",
       "    <tr>\n",
       "      <th>2</th>\n",
       "      <td>4</td>\n",
       "      <td>318</td>\n",
       "      <td>4.020638</td>\n",
       "      <td>Shawshank Redemption, The (1994)</td>\n",
       "    </tr>\n",
       "    <tr>\n",
       "      <th>3</th>\n",
       "      <td>7</td>\n",
       "      <td>318</td>\n",
       "      <td>3.850770</td>\n",
       "      <td>Shawshank Redemption, The (1994)</td>\n",
       "    </tr>\n",
       "    <tr>\n",
       "      <th>4</th>\n",
       "      <td>9</td>\n",
       "      <td>318</td>\n",
       "      <td>4.036433</td>\n",
       "      <td>Shawshank Redemption, The (1994)</td>\n",
       "    </tr>\n",
       "  </tbody>\n",
       "</table>\n",
       "</div>"
      ],
      "text/plain": [
       "   userId  movieId  predicted rating                             title\n",
       "0       1      318          4.876347  Shawshank Redemption, The (1994)\n",
       "1       3      318          3.282163  Shawshank Redemption, The (1994)\n",
       "2       4      318          4.020638  Shawshank Redemption, The (1994)\n",
       "3       7      318          3.850770  Shawshank Redemption, The (1994)\n",
       "4       9      318          4.036433  Shawshank Redemption, The (1994)"
      ]
     },
     "execution_count": 15,
     "metadata": {},
     "output_type": "execute_result"
    }
   ],
   "source": [
    "#Get the movies names by merging\n",
    "movies = pd.read_csv('movies.csv')\n",
    "final_user_df = final_df.merge(movies, on=['movieId'], how='inner', indicator = True)\n",
    "final_user_df = final_user_df.drop(columns=['genres','_merge'])\n",
    "final_user_df.head()"
   ]
  },
  {
   "cell_type": "markdown",
   "id": "a952aa46",
   "metadata": {
    "id": "a952aa46"
   },
   "source": [
    "## Recommending movies to a user\n",
    "\n",
    "Given a user who has already rated some movies, what other movies are they likely to rate highly?\n",
    "\n",
    "AKA: what can we show on a user's home feed?"
   ]
  },
  {
   "cell_type": "code",
   "execution_count": 16,
   "id": "d5a557ce",
   "metadata": {
    "id": "d5a557ce"
   },
   "outputs": [],
   "source": [
    "def user_recommender(df, user):\n",
    "    user_df = df[df['userId']==user]\n",
    "    user_df.sort_values(by = 'predicted rating', inplace=True, ascending=False)\n",
    "    movies = user_df.iloc[0:9,3:4]\n",
    "    \n",
    "    return movies"
   ]
  },
  {
   "cell_type": "code",
   "execution_count": 17,
   "id": "e78af6bb",
   "metadata": {
    "id": "e78af6bb",
    "outputId": "4899129c-1377-462f-839e-fa75702fadb6"
   },
   "outputs": [
    {
     "name": "stderr",
     "output_type": "stream",
     "text": [
      "C:\\Users\\kelly\\AppData\\Local\\Temp\\ipykernel_8184\\2837873504.py:3: SettingWithCopyWarning: \n",
      "A value is trying to be set on a copy of a slice from a DataFrame\n",
      "\n",
      "See the caveats in the documentation: https://pandas.pydata.org/pandas-docs/stable/user_guide/indexing.html#returning-a-view-versus-a-copy\n",
      "  user_df.sort_values(by = 'predicted rating', inplace=True, ascending=False)\n"
     ]
    },
    {
     "data": {
      "text/html": [
       "<div>\n",
       "<style scoped>\n",
       "    .dataframe tbody tr th:only-of-type {\n",
       "        vertical-align: middle;\n",
       "    }\n",
       "\n",
       "    .dataframe tbody tr th {\n",
       "        vertical-align: top;\n",
       "    }\n",
       "\n",
       "    .dataframe thead th {\n",
       "        text-align: right;\n",
       "    }\n",
       "</style>\n",
       "<table border=\"1\" class=\"dataframe\">\n",
       "  <thead>\n",
       "    <tr style=\"text-align: right;\">\n",
       "      <th></th>\n",
       "      <th>title</th>\n",
       "    </tr>\n",
       "  </thead>\n",
       "  <tbody>\n",
       "    <tr>\n",
       "      <th>5163026</th>\n",
       "      <td>Jetée, La (1962)</td>\n",
       "    </tr>\n",
       "    <tr>\n",
       "      <th>1664218</th>\n",
       "      <td>Trial, The (Procès, Le) (1962)</td>\n",
       "    </tr>\n",
       "    <tr>\n",
       "      <th>3769069</th>\n",
       "      <td>Come and See (Idi i smotri) (1985)</td>\n",
       "    </tr>\n",
       "    <tr>\n",
       "      <th>668163</th>\n",
       "      <td>Three Billboards Outside Ebbing, Missouri (2017)</td>\n",
       "    </tr>\n",
       "    <tr>\n",
       "      <th>4290258</th>\n",
       "      <td>Bad Boy Bubby (1993)</td>\n",
       "    </tr>\n",
       "    <tr>\n",
       "      <th>1501058</th>\n",
       "      <td>Neon Genesis Evangelion: The End of Evangelion...</td>\n",
       "    </tr>\n",
       "    <tr>\n",
       "      <th>1119824</th>\n",
       "      <td>Guess Who's Coming to Dinner (1967)</td>\n",
       "    </tr>\n",
       "    <tr>\n",
       "      <th>1695311</th>\n",
       "      <td>Captain Fantastic (2016)</td>\n",
       "    </tr>\n",
       "    <tr>\n",
       "      <th>2880331</th>\n",
       "      <td>Woman in the Dunes (Suna no onna) (1964)</td>\n",
       "    </tr>\n",
       "  </tbody>\n",
       "</table>\n",
       "</div>"
      ],
      "text/plain": [
       "                                                     title\n",
       "5163026                                   Jetée, La (1962)\n",
       "1664218                     Trial, The (Procès, Le) (1962)\n",
       "3769069                 Come and See (Idi i smotri) (1985)\n",
       "668163    Three Billboards Outside Ebbing, Missouri (2017)\n",
       "4290258                               Bad Boy Bubby (1993)\n",
       "1501058  Neon Genesis Evangelion: The End of Evangelion...\n",
       "1119824                Guess Who's Coming to Dinner (1967)\n",
       "1695311                           Captain Fantastic (2016)\n",
       "2880331           Woman in the Dunes (Suna no onna) (1964)"
      ]
     },
     "execution_count": 17,
     "metadata": {},
     "output_type": "execute_result"
    }
   ],
   "source": [
    "user_recommender(final_user_df, 2)"
   ]
  },
  {
   "cell_type": "markdown",
   "id": "c5b1e61c",
   "metadata": {
    "id": "c5b1e61c"
   },
   "source": [
    "## Hybrid Recommender\n",
    "\n",
    "Given a user and a movie, what similar movies is the user likely to rate highly?\n",
    "\n",
    "Get similar movies first, then find the ones that the user is likely to like."
   ]
  },
  {
   "cell_type": "code",
   "execution_count": 57,
   "id": "073112ef",
   "metadata": {
    "id": "073112ef"
   },
   "outputs": [],
   "source": [
    "def hybrid_recommend(movie_df, cosine_sim, rating_df):\n",
    "    title = (input(\"Enter movie title: \")).lower()\n",
    "    user = int(input(\"Enter user ID: \"))\n",
    "    movie_df['title'] = movie_df['title'].str.lower()\n",
    "\n",
    "    recommended_movies = []\n",
    "    if title not in list(movie_df.title):\n",
    "        print('Error: please ensure that movies dataframe contains your query title.')\n",
    "        return\n",
    "\n",
    "    title_idx = movie_df[movie_df['title'] == title].index[0]\n",
    "    sorted_similarities = pd.Series(cosine_sim[title_idx]).sort_values(ascending = False)\n",
    "    top_10_indices = sorted_similarities.index[1:20] # highest similarity idx is movie itself (= 1)\n",
    "    \n",
    "    movie_titles = movie_df['movieId'].tolist()\n",
    "    for i in top_10_indices:\n",
    "        recommended_movies.append(movie_titles[i])\n",
    "        \n",
    "    similar_df = pd.DataFrame(recommended_movies)\n",
    "    similar_df = similar_df.rename(columns={0: \"movieId\"})\n",
    "    \n",
    "    user_df = rating_df[rating_df['userId']==user]\n",
    "    \n",
    "    recommendation = user_df.merge(similar_df, on=['movieId'], how='inner', indicator = True)\n",
    "    recommendation.sort_values(by = 'predicted rating', inplace=True, ascending=False)\n",
    "    ans = recommendation.iloc[0:10,3:4]   \n",
    "    \n",
    "    return ans"
   ]
  },
  {
   "cell_type": "code",
   "execution_count": 61,
   "id": "b7cdcc95",
   "metadata": {
    "id": "b7cdcc95",
    "outputId": "61901e3a-f4c0-49a1-d5ea-8bc22cb64aaf"
   },
   "outputs": [
    {
     "name": "stdout",
     "output_type": "stream",
     "text": [
      "Enter movie title: toy story\n",
      "Enter user ID: 76\n"
     ]
    },
    {
     "data": {
      "text/html": [
       "<div>\n",
       "<style scoped>\n",
       "    .dataframe tbody tr th:only-of-type {\n",
       "        vertical-align: middle;\n",
       "    }\n",
       "\n",
       "    .dataframe tbody tr th {\n",
       "        vertical-align: top;\n",
       "    }\n",
       "\n",
       "    .dataframe thead th {\n",
       "        text-align: right;\n",
       "    }\n",
       "</style>\n",
       "<table border=\"1\" class=\"dataframe\">\n",
       "  <thead>\n",
       "    <tr style=\"text-align: right;\">\n",
       "      <th></th>\n",
       "      <th>title</th>\n",
       "    </tr>\n",
       "  </thead>\n",
       "  <tbody>\n",
       "    <tr>\n",
       "      <th>13</th>\n",
       "      <td>Paddington 2 (2017)</td>\n",
       "    </tr>\n",
       "    <tr>\n",
       "      <th>3</th>\n",
       "      <td>Toy Story 3 (2010)</td>\n",
       "    </tr>\n",
       "    <tr>\n",
       "      <th>11</th>\n",
       "      <td>Presto (2008)</td>\n",
       "    </tr>\n",
       "    <tr>\n",
       "      <th>1</th>\n",
       "      <td>Shrek (2001)</td>\n",
       "    </tr>\n",
       "    <tr>\n",
       "      <th>0</th>\n",
       "      <td>Toy Story 2 (1999)</td>\n",
       "    </tr>\n",
       "    <tr>\n",
       "      <th>2</th>\n",
       "      <td>Monsters, Inc. (2001)</td>\n",
       "    </tr>\n",
       "    <tr>\n",
       "      <th>7</th>\n",
       "      <td>Enchanted (2007)</td>\n",
       "    </tr>\n",
       "    <tr>\n",
       "      <th>12</th>\n",
       "      <td>Moana (2016)</td>\n",
       "    </tr>\n",
       "    <tr>\n",
       "      <th>9</th>\n",
       "      <td>Halloweentown (1998)</td>\n",
       "    </tr>\n",
       "    <tr>\n",
       "      <th>16</th>\n",
       "      <td>Turbo (2013)</td>\n",
       "    </tr>\n",
       "  </tbody>\n",
       "</table>\n",
       "</div>"
      ],
      "text/plain": [
       "                    title\n",
       "13    Paddington 2 (2017)\n",
       "3      Toy Story 3 (2010)\n",
       "11          Presto (2008)\n",
       "1            Shrek (2001)\n",
       "0      Toy Story 2 (1999)\n",
       "2   Monsters, Inc. (2001)\n",
       "7        Enchanted (2007)\n",
       "12           Moana (2016)\n",
       "9    Halloweentown (1998)\n",
       "16           Turbo (2013)"
      ]
     },
     "execution_count": 61,
     "metadata": {},
     "output_type": "execute_result"
    }
   ],
   "source": [
    "hybrid_recommend(final_movies_df, cosine_sim, final_user_df)"
   ]
  },
  {
   "cell_type": "code",
   "execution_count": 62,
   "id": "2e94dd74",
   "metadata": {
    "id": "2e94dd74",
    "outputId": "4eaa3d8a-6915-46eb-f8e8-881c8e8707d2"
   },
   "outputs": [
    {
     "name": "stdout",
     "output_type": "stream",
     "text": [
      "Enter movie title: toy story\n",
      "Enter user ID: 288\n"
     ]
    },
    {
     "data": {
      "text/html": [
       "<div>\n",
       "<style scoped>\n",
       "    .dataframe tbody tr th:only-of-type {\n",
       "        vertical-align: middle;\n",
       "    }\n",
       "\n",
       "    .dataframe tbody tr th {\n",
       "        vertical-align: top;\n",
       "    }\n",
       "\n",
       "    .dataframe thead th {\n",
       "        text-align: right;\n",
       "    }\n",
       "</style>\n",
       "<table border=\"1\" class=\"dataframe\">\n",
       "  <thead>\n",
       "    <tr style=\"text-align: right;\">\n",
       "      <th></th>\n",
       "      <th>title</th>\n",
       "    </tr>\n",
       "  </thead>\n",
       "  <tbody>\n",
       "    <tr>\n",
       "      <th>9</th>\n",
       "      <td>Paddington 2 (2017)</td>\n",
       "    </tr>\n",
       "    <tr>\n",
       "      <th>0</th>\n",
       "      <td>Toy Story 3 (2010)</td>\n",
       "    </tr>\n",
       "    <tr>\n",
       "      <th>7</th>\n",
       "      <td>Presto (2008)</td>\n",
       "    </tr>\n",
       "    <tr>\n",
       "      <th>3</th>\n",
       "      <td>Enchanted (2007)</td>\n",
       "    </tr>\n",
       "    <tr>\n",
       "      <th>8</th>\n",
       "      <td>Moana (2016)</td>\n",
       "    </tr>\n",
       "    <tr>\n",
       "      <th>5</th>\n",
       "      <td>Halloweentown (1998)</td>\n",
       "    </tr>\n",
       "    <tr>\n",
       "      <th>12</th>\n",
       "      <td>Turbo (2013)</td>\n",
       "    </tr>\n",
       "    <tr>\n",
       "      <th>1</th>\n",
       "      <td>Madagascar (2005)</td>\n",
       "    </tr>\n",
       "    <tr>\n",
       "      <th>10</th>\n",
       "      <td>Gnomeo &amp; Juliet (2011)</td>\n",
       "    </tr>\n",
       "    <tr>\n",
       "      <th>2</th>\n",
       "      <td>Minions (2015)</td>\n",
       "    </tr>\n",
       "  </tbody>\n",
       "</table>\n",
       "</div>"
      ],
      "text/plain": [
       "                     title\n",
       "9      Paddington 2 (2017)\n",
       "0       Toy Story 3 (2010)\n",
       "7            Presto (2008)\n",
       "3         Enchanted (2007)\n",
       "8             Moana (2016)\n",
       "5     Halloweentown (1998)\n",
       "12            Turbo (2013)\n",
       "1        Madagascar (2005)\n",
       "10  Gnomeo & Juliet (2011)\n",
       "2           Minions (2015)"
      ]
     },
     "execution_count": 62,
     "metadata": {},
     "output_type": "execute_result"
    }
   ],
   "source": [
    "hybrid_recommend(final_movies_df, cosine_sim, final_user_df)"
   ]
  },
  {
   "cell_type": "code",
   "execution_count": null,
   "id": "daf8fcdc",
   "metadata": {
    "id": "daf8fcdc"
   },
   "outputs": [],
   "source": [
    "hybrid_recommend(final_movies_df, cosine_sim, final_user_df)"
   ]
  },
  {
   "cell_type": "markdown",
   "id": "f2ea1157",
   "metadata": {
    "id": "f2ea1157"
   },
   "source": [
    "## A simple Recommendations GUI\n",
    "\n",
    "Input and preview the recommended movies in a simple GUI!\n",
    "\n",
    "Implementation done using `gradio`."
   ]
  },
  {
   "cell_type": "code",
   "execution_count": 51,
   "id": "48de29d1",
   "metadata": {
    "id": "48de29d1"
   },
   "outputs": [],
   "source": [
    "def hybrid_ui(user, title):\n",
    "    title = title.lower()\n",
    "    user = int(user)\n",
    "    final_movies_df['title'] = final_movies_df['title'].str.lower()\n",
    "\n",
    "    recommended_movies = []\n",
    "    if title not in list(final_movies_df.title):\n",
    "        ans = list(['Error: please ensure that movies dataframe contains your query title.'])\n",
    "        ans_1 = pd.DataFrame(ans)\n",
    "        return ans_1\n",
    "\n",
    "    title_idx = final_movies_df[final_movies_df['title'] == title].index[0]\n",
    "    sorted_similarities = pd.Series(cosine_sim[title_idx]).sort_values(ascending = False)\n",
    "    top_10_indices = sorted_similarities.index[1:20] # highest similarity idx is movie itself (= 1)\n",
    "    \n",
    "    movie_titles = final_movies_df['movieId'].tolist()\n",
    "    for i in top_10_indices:\n",
    "        recommended_movies.append(movie_titles[i])\n",
    "        \n",
    "    similar_df = pd.DataFrame(recommended_movies)\n",
    "    similar_df = similar_df.rename(columns={0: \"movieId\"})\n",
    "    \n",
    "    user_df = final_user_df[final_user_df['userId']==user]\n",
    "    \n",
    "    recommendation = user_df.merge(similar_df, on=['movieId'], how='inner', indicator = True)\n",
    "    recommendation.sort_values(by = 'predicted rating', inplace=True, ascending=False)\n",
    "    ans = recommendation.iloc[0:10,3:4]   \n",
    "    \n",
    "    return ans"
   ]
  },
  {
   "cell_type": "code",
   "execution_count": 48,
   "id": "186278ef",
   "metadata": {
    "id": "186278ef",
    "outputId": "b2754f39-116e-4019-bc3e-f25a4dcc4321"
   },
   "outputs": [
    {
     "data": {
      "text/html": [
       "<div>\n",
       "<style scoped>\n",
       "    .dataframe tbody tr th:only-of-type {\n",
       "        vertical-align: middle;\n",
       "    }\n",
       "\n",
       "    .dataframe tbody tr th {\n",
       "        vertical-align: top;\n",
       "    }\n",
       "\n",
       "    .dataframe thead th {\n",
       "        text-align: right;\n",
       "    }\n",
       "</style>\n",
       "<table border=\"1\" class=\"dataframe\">\n",
       "  <thead>\n",
       "    <tr style=\"text-align: right;\">\n",
       "      <th></th>\n",
       "      <th>title</th>\n",
       "    </tr>\n",
       "  </thead>\n",
       "  <tbody>\n",
       "    <tr>\n",
       "      <th>13</th>\n",
       "      <td>Paddington 2 (2017)</td>\n",
       "    </tr>\n",
       "    <tr>\n",
       "      <th>3</th>\n",
       "      <td>Toy Story 3 (2010)</td>\n",
       "    </tr>\n",
       "    <tr>\n",
       "      <th>11</th>\n",
       "      <td>Presto (2008)</td>\n",
       "    </tr>\n",
       "    <tr>\n",
       "      <th>1</th>\n",
       "      <td>Shrek (2001)</td>\n",
       "    </tr>\n",
       "    <tr>\n",
       "      <th>0</th>\n",
       "      <td>Toy Story 2 (1999)</td>\n",
       "    </tr>\n",
       "    <tr>\n",
       "      <th>2</th>\n",
       "      <td>Monsters, Inc. (2001)</td>\n",
       "    </tr>\n",
       "    <tr>\n",
       "      <th>7</th>\n",
       "      <td>Enchanted (2007)</td>\n",
       "    </tr>\n",
       "    <tr>\n",
       "      <th>12</th>\n",
       "      <td>Moana (2016)</td>\n",
       "    </tr>\n",
       "    <tr>\n",
       "      <th>16</th>\n",
       "      <td>Turbo (2013)</td>\n",
       "    </tr>\n",
       "    <tr>\n",
       "      <th>9</th>\n",
       "      <td>Halloweentown (1998)</td>\n",
       "    </tr>\n",
       "  </tbody>\n",
       "</table>\n",
       "</div>"
      ],
      "text/plain": [
       "                    title\n",
       "13    Paddington 2 (2017)\n",
       "3      Toy Story 3 (2010)\n",
       "11          Presto (2008)\n",
       "1            Shrek (2001)\n",
       "0      Toy Story 2 (1999)\n",
       "2   Monsters, Inc. (2001)\n",
       "7        Enchanted (2007)\n",
       "12           Moana (2016)\n",
       "16           Turbo (2013)\n",
       "9    Halloweentown (1998)"
      ]
     },
     "execution_count": 48,
     "metadata": {},
     "output_type": "execute_result"
    }
   ],
   "source": [
    "hybrid_ui(2, 'toy story')"
   ]
  },
  {
   "cell_type": "code",
   "execution_count": 49,
   "id": "8ece6e54",
   "metadata": {
    "id": "8ece6e54"
   },
   "outputs": [],
   "source": [
    "user_input = gr.Number(label = \"Enter user ID\")\n",
    "title_input = gr.Textbox(label = \"Enter the movie that user is currently watching\")\n",
    "output = gr.Dataframe(label = \"Recommended Title\")"
   ]
  },
  {
   "cell_type": "code",
   "execution_count": 55,
   "id": "3138f07a",
   "metadata": {
    "id": "3138f07a",
    "outputId": "c832e19c-3fe7-4364-ddf9-8294e1e61832"
   },
   "outputs": [
    {
     "name": "stdout",
     "output_type": "stream",
     "text": [
      "Running on local URL:  http://127.0.0.1:7865\n",
      "\n",
      "To create a public link, set `share=True` in `launch()`.\n"
     ]
    },
    {
     "data": {
      "text/html": [
       "<div><iframe src=\"http://127.0.0.1:7865/\" width=\"100%\" height=\"500\" allow=\"autoplay; camera; microphone; clipboard-read; clipboard-write;\" frameborder=\"0\" allowfullscreen></iframe></div>"
      ],
      "text/plain": [
       "<IPython.core.display.HTML object>"
      ]
     },
     "metadata": {},
     "output_type": "display_data"
    },
    {
     "data": {
      "text/plain": []
     },
     "execution_count": 55,
     "metadata": {},
     "output_type": "execute_result"
    }
   ],
   "source": [
    "app = gr.Interface(fn = hybrid_ui, inputs=[user_input, title_input], outputs=output)\n",
    "app.launch()"
   ]
  },
  {
   "cell_type": "code",
   "execution_count": 37,
   "id": "576bb2db",
   "metadata": {},
   "outputs": [],
   "source": [
    "ans = 'Error: please ensure that movies dataframe contains your query title.'\n",
    "ans_1 = pd.DataFrame()\n",
    "ans_1[\"ans\"] = \"y\""
   ]
  },
  {
   "cell_type": "code",
   "execution_count": 45,
   "id": "d91121ee",
   "metadata": {},
   "outputs": [],
   "source": [
    "ans_1.iloc[0:, 0:] = \"dsad\""
   ]
  },
  {
   "cell_type": "code",
   "execution_count": 46,
   "id": "ed0d0fdc",
   "metadata": {},
   "outputs": [
    {
     "data": {
      "text/html": [
       "<div>\n",
       "<style scoped>\n",
       "    .dataframe tbody tr th:only-of-type {\n",
       "        vertical-align: middle;\n",
       "    }\n",
       "\n",
       "    .dataframe tbody tr th {\n",
       "        vertical-align: top;\n",
       "    }\n",
       "\n",
       "    .dataframe thead th {\n",
       "        text-align: right;\n",
       "    }\n",
       "</style>\n",
       "<table border=\"1\" class=\"dataframe\">\n",
       "  <thead>\n",
       "    <tr style=\"text-align: right;\">\n",
       "      <th></th>\n",
       "      <th>ans</th>\n",
       "    </tr>\n",
       "  </thead>\n",
       "  <tbody>\n",
       "  </tbody>\n",
       "</table>\n",
       "</div>"
      ],
      "text/plain": [
       "Empty DataFrame\n",
       "Columns: [ans]\n",
       "Index: []"
      ]
     },
     "execution_count": 46,
     "metadata": {},
     "output_type": "execute_result"
    }
   ],
   "source": [
    "ans_1"
   ]
  },
  {
   "cell_type": "code",
   "execution_count": null,
   "id": "8d482fa8",
   "metadata": {},
   "outputs": [],
   "source": []
  }
 ],
 "metadata": {
  "colab": {
   "provenance": []
  },
  "kernelspec": {
   "display_name": "Python 3 (ipykernel)",
   "language": "python",
   "name": "python3"
  },
  "language_info": {
   "codemirror_mode": {
    "name": "ipython",
    "version": 3
   },
   "file_extension": ".py",
   "mimetype": "text/x-python",
   "name": "python",
   "nbconvert_exporter": "python",
   "pygments_lexer": "ipython3",
   "version": "3.11.5"
  },
  "vscode": {
   "interpreter": {
    "hash": "aee8b7b246df8f9039afb4144a1f6fd8d2ca17a180786b69acc140d282b71a49"
   }
  }
 },
 "nbformat": 4,
 "nbformat_minor": 5
}
